{
 "cells": [
  {
   "cell_type": "markdown",
   "metadata": {},
   "source": [
    "Import libraries\n",
    "---"
   ]
  },
  {
   "cell_type": "code",
   "execution_count": 9,
   "metadata": {},
   "outputs": [],
   "source": [
    "import pandas as pd"
   ]
  },
  {
   "cell_type": "markdown",
   "metadata": {},
   "source": [
    "Import I-10 data\n",
    "---"
   ]
  },
  {
   "cell_type": "code",
   "execution_count": 10,
   "metadata": {},
   "outputs": [
    {
     "data": {
      "text/plain": [
       "2699"
      ]
     },
     "execution_count": 10,
     "metadata": {},
     "output_type": "execute_result"
    }
   ],
   "source": [
    "i10 = pd.read_csv('../data/10-605_24hr.csv')\n",
    "\n",
    "len(i10)"
   ]
  },
  {
   "cell_type": "markdown",
   "metadata": {},
   "source": [
    "**Rename columns as neccessary**"
   ]
  },
  {
   "cell_type": "code",
   "execution_count": 11,
   "metadata": {},
   "outputs": [
    {
     "data": {
      "text/html": [
       "<div>\n",
       "<style scoped>\n",
       "    .dataframe tbody tr th:only-of-type {\n",
       "        vertical-align: middle;\n",
       "    }\n",
       "\n",
       "    .dataframe tbody tr th {\n",
       "        vertical-align: top;\n",
       "    }\n",
       "\n",
       "    .dataframe thead th {\n",
       "        text-align: right;\n",
       "    }\n",
       "</style>\n",
       "<table border=\"1\" class=\"dataframe\">\n",
       "  <thead>\n",
       "    <tr style=\"text-align: right;\">\n",
       "      <th></th>\n",
       "      <th>tweet</th>\n",
       "      <th>username</th>\n",
       "      <th>after_incident</th>\n",
       "    </tr>\n",
       "  </thead>\n",
       "  <tbody>\n",
       "    <tr>\n",
       "      <th>0</th>\n",
       "      <td>Terrebonne: Gray: The LA 660 Coteau Rd Bridge ...</td>\n",
       "      <td>Houma_Traffic</td>\n",
       "      <td>1</td>\n",
       "    </tr>\n",
       "    <tr>\n",
       "      <th>1</th>\n",
       "      <td>Western State East Standings: 1. Citrus 22-6, ...</td>\n",
       "      <td>sgnlthelgthoops</td>\n",
       "      <td>1</td>\n",
       "    </tr>\n",
       "    <tr>\n",
       "      <th>2</th>\n",
       "      <td>South Coast North Standings: 1. East Los Angel...</td>\n",
       "      <td>sgnlthelgthoops</td>\n",
       "      <td>1</td>\n",
       "    </tr>\n",
       "    <tr>\n",
       "      <th>3</th>\n",
       "      <td>All lanes are open I-10 East at mile marker 12...</td>\n",
       "      <td>Laf_Traffic</td>\n",
       "      <td>1</td>\n",
       "    </tr>\n",
       "    <tr>\n",
       "      <th>4</th>\n",
       "      <td>The exit ramp I-10 East at mile marker 121 (Bu...</td>\n",
       "      <td>Laf_Traffic</td>\n",
       "      <td>1</td>\n",
       "    </tr>\n",
       "  </tbody>\n",
       "</table>\n",
       "</div>"
      ],
      "text/plain": [
       "                                               tweet         username  \\\n",
       "0  Terrebonne: Gray: The LA 660 Coteau Rd Bridge ...    Houma_Traffic   \n",
       "1  Western State East Standings: 1. Citrus 22-6, ...  sgnlthelgthoops   \n",
       "2  South Coast North Standings: 1. East Los Angel...  sgnlthelgthoops   \n",
       "3  All lanes are open I-10 East at mile marker 12...      Laf_Traffic   \n",
       "4  The exit ramp I-10 East at mile marker 121 (Bu...      Laf_Traffic   \n",
       "\n",
       "   after_incident  \n",
       "0               1  \n",
       "1               1  \n",
       "2               1  \n",
       "3               1  \n",
       "4               1  "
      ]
     },
     "execution_count": 11,
     "metadata": {},
     "output_type": "execute_result"
    }
   ],
   "source": [
    "i10.columns = [column_name.replace('target', 'after_incident') for column_name in i10.columns]\n",
    "\n",
    "i10.head()"
   ]
  },
  {
   "cell_type": "markdown",
   "metadata": {},
   "source": [
    "Import CA-2 data\n",
    "---"
   ]
  },
  {
   "cell_type": "code",
   "execution_count": 12,
   "metadata": {},
   "outputs": [
    {
     "data": {
      "text/html": [
       "<div>\n",
       "<style scoped>\n",
       "    .dataframe tbody tr th:only-of-type {\n",
       "        vertical-align: middle;\n",
       "    }\n",
       "\n",
       "    .dataframe tbody tr th {\n",
       "        vertical-align: top;\n",
       "    }\n",
       "\n",
       "    .dataframe thead th {\n",
       "        text-align: right;\n",
       "    }\n",
       "</style>\n",
       "<table border=\"1\" class=\"dataframe\">\n",
       "  <thead>\n",
       "    <tr style=\"text-align: right;\">\n",
       "      <th></th>\n",
       "      <th>tweet</th>\n",
       "      <th>username</th>\n",
       "      <th>after_incident</th>\n",
       "    </tr>\n",
       "  </thead>\n",
       "  <tbody>\n",
       "    <tr>\n",
       "      <th>0</th>\n",
       "      <td>10092-10088 Constellation Blvd 10092-10088 Con...</td>\n",
       "      <td>arnoldbprice</td>\n",
       "      <td>1</td>\n",
       "    </tr>\n",
       "    <tr>\n",
       "      <th>1</th>\n",
       "      <td>anyway we were on constellation blvd listening...</td>\n",
       "      <td>centralsiberia</td>\n",
       "      <td>1</td>\n",
       "    </tr>\n",
       "    <tr>\n",
       "      <th>2</th>\n",
       "      <td>Now you can pick up some #matcha #lipbalm cons...</td>\n",
       "      <td>essanceskincare</td>\n",
       "      <td>1</td>\n",
       "    </tr>\n",
       "    <tr>\n",
       "      <th>3</th>\n",
       "      <td>Just Listed! 1500 W 101st St Los Angeles, CA 2...</td>\n",
       "      <td>TBKS_1986</td>\n",
       "      <td>1</td>\n",
       "    </tr>\n",
       "    <tr>\n",
       "      <th>4</th>\n",
       "      <td>1) I'm Salvadorean born and raised in Los Ange...</td>\n",
       "      <td>Lobos98986565</td>\n",
       "      <td>1</td>\n",
       "    </tr>\n",
       "  </tbody>\n",
       "</table>\n",
       "</div>"
      ],
      "text/plain": [
       "                                               tweet         username  \\\n",
       "0  10092-10088 Constellation Blvd 10092-10088 Con...     arnoldbprice   \n",
       "1  anyway we were on constellation blvd listening...   centralsiberia   \n",
       "2  Now you can pick up some #matcha #lipbalm cons...  essanceskincare   \n",
       "3  Just Listed! 1500 W 101st St Los Angeles, CA 2...        TBKS_1986   \n",
       "4  1) I'm Salvadorean born and raised in Los Ange...    Lobos98986565   \n",
       "\n",
       "   after_incident  \n",
       "0               1  \n",
       "1               1  \n",
       "2               1  \n",
       "3               1  \n",
       "4               1  "
      ]
     },
     "execution_count": 12,
     "metadata": {},
     "output_type": "execute_result"
    }
   ],
   "source": [
    "ca2 = pd.read_csv('../data/ca2_2017_2020.csv')\n",
    "\n",
    "ca2.head()"
   ]
  },
  {
   "cell_type": "markdown",
   "metadata": {},
   "source": [
    "Combine I-10 and CA-2 data\n",
    "---"
   ]
  },
  {
   "cell_type": "code",
   "execution_count": 13,
   "metadata": {},
   "outputs": [
    {
     "data": {
      "text/html": [
       "<div>\n",
       "<style scoped>\n",
       "    .dataframe tbody tr th:only-of-type {\n",
       "        vertical-align: middle;\n",
       "    }\n",
       "\n",
       "    .dataframe tbody tr th {\n",
       "        vertical-align: top;\n",
       "    }\n",
       "\n",
       "    .dataframe thead th {\n",
       "        text-align: right;\n",
       "    }\n",
       "</style>\n",
       "<table border=\"1\" class=\"dataframe\">\n",
       "  <thead>\n",
       "    <tr style=\"text-align: right;\">\n",
       "      <th></th>\n",
       "      <th>tweet</th>\n",
       "      <th>username</th>\n",
       "      <th>after_incident</th>\n",
       "    </tr>\n",
       "  </thead>\n",
       "  <tbody>\n",
       "    <tr>\n",
       "      <th>0</th>\n",
       "      <td>Terrebonne: Gray: The LA 660 Coteau Rd Bridge ...</td>\n",
       "      <td>Houma_Traffic</td>\n",
       "      <td>1</td>\n",
       "    </tr>\n",
       "    <tr>\n",
       "      <th>1</th>\n",
       "      <td>Western State East Standings: 1. Citrus 22-6, ...</td>\n",
       "      <td>sgnlthelgthoops</td>\n",
       "      <td>1</td>\n",
       "    </tr>\n",
       "    <tr>\n",
       "      <th>2</th>\n",
       "      <td>South Coast North Standings: 1. East Los Angel...</td>\n",
       "      <td>sgnlthelgthoops</td>\n",
       "      <td>1</td>\n",
       "    </tr>\n",
       "    <tr>\n",
       "      <th>3</th>\n",
       "      <td>All lanes are open I-10 East at mile marker 12...</td>\n",
       "      <td>Laf_Traffic</td>\n",
       "      <td>1</td>\n",
       "    </tr>\n",
       "    <tr>\n",
       "      <th>4</th>\n",
       "      <td>The exit ramp I-10 East at mile marker 121 (Bu...</td>\n",
       "      <td>Laf_Traffic</td>\n",
       "      <td>1</td>\n",
       "    </tr>\n",
       "  </tbody>\n",
       "</table>\n",
       "</div>"
      ],
      "text/plain": [
       "                                               tweet         username  \\\n",
       "0  Terrebonne: Gray: The LA 660 Coteau Rd Bridge ...    Houma_Traffic   \n",
       "1  Western State East Standings: 1. Citrus 22-6, ...  sgnlthelgthoops   \n",
       "2  South Coast North Standings: 1. East Los Angel...  sgnlthelgthoops   \n",
       "3  All lanes are open I-10 East at mile marker 12...      Laf_Traffic   \n",
       "4  The exit ramp I-10 East at mile marker 121 (Bu...      Laf_Traffic   \n",
       "\n",
       "   after_incident  \n",
       "0               1  \n",
       "1               1  \n",
       "2               1  \n",
       "3               1  \n",
       "4               1  "
      ]
     },
     "execution_count": 13,
     "metadata": {},
     "output_type": "execute_result"
    }
   ],
   "source": [
    "df = pd.concat([i10, ca2], axis=0)\n",
    "df.head()"
   ]
  },
  {
   "cell_type": "markdown",
   "metadata": {},
   "source": [
    "Reset index of combined data\n",
    "---"
   ]
  },
  {
   "cell_type": "code",
   "execution_count": 14,
   "metadata": {},
   "outputs": [
    {
     "data": {
      "text/html": [
       "<div>\n",
       "<style scoped>\n",
       "    .dataframe tbody tr th:only-of-type {\n",
       "        vertical-align: middle;\n",
       "    }\n",
       "\n",
       "    .dataframe tbody tr th {\n",
       "        vertical-align: top;\n",
       "    }\n",
       "\n",
       "    .dataframe thead th {\n",
       "        text-align: right;\n",
       "    }\n",
       "</style>\n",
       "<table border=\"1\" class=\"dataframe\">\n",
       "  <thead>\n",
       "    <tr style=\"text-align: right;\">\n",
       "      <th></th>\n",
       "      <th>tweet</th>\n",
       "      <th>username</th>\n",
       "      <th>after_incident</th>\n",
       "    </tr>\n",
       "  </thead>\n",
       "  <tbody>\n",
       "    <tr>\n",
       "      <th>0</th>\n",
       "      <td>Terrebonne: Gray: The LA 660 Coteau Rd Bridge ...</td>\n",
       "      <td>Houma_Traffic</td>\n",
       "      <td>1</td>\n",
       "    </tr>\n",
       "    <tr>\n",
       "      <th>1</th>\n",
       "      <td>Western State East Standings: 1. Citrus 22-6, ...</td>\n",
       "      <td>sgnlthelgthoops</td>\n",
       "      <td>1</td>\n",
       "    </tr>\n",
       "    <tr>\n",
       "      <th>2</th>\n",
       "      <td>South Coast North Standings: 1. East Los Angel...</td>\n",
       "      <td>sgnlthelgthoops</td>\n",
       "      <td>1</td>\n",
       "    </tr>\n",
       "    <tr>\n",
       "      <th>3</th>\n",
       "      <td>All lanes are open I-10 East at mile marker 12...</td>\n",
       "      <td>Laf_Traffic</td>\n",
       "      <td>1</td>\n",
       "    </tr>\n",
       "    <tr>\n",
       "      <th>4</th>\n",
       "      <td>The exit ramp I-10 East at mile marker 121 (Bu...</td>\n",
       "      <td>Laf_Traffic</td>\n",
       "      <td>1</td>\n",
       "    </tr>\n",
       "    <tr>\n",
       "      <th>...</th>\n",
       "      <td>...</td>\n",
       "      <td>...</td>\n",
       "      <td>...</td>\n",
       "    </tr>\n",
       "    <tr>\n",
       "      <th>4851</th>\n",
       "      <td>Cinema Under the Stars is a free outdoor famil...</td>\n",
       "      <td>WestwoodVillage</td>\n",
       "      <td>0</td>\n",
       "    </tr>\n",
       "    <tr>\n",
       "      <th>4852</th>\n",
       "      <td>#TBT when the LA Film Fest hosted a series of ...</td>\n",
       "      <td>WestwoodVillage</td>\n",
       "      <td>0</td>\n",
       "    </tr>\n",
       "    <tr>\n",
       "      <th>4853</th>\n",
       "      <td>#TBT when the LA Film Fest hosted a series of ...</td>\n",
       "      <td>WestwoodVillage</td>\n",
       "      <td>0</td>\n",
       "    </tr>\n",
       "    <tr>\n",
       "      <th>4854</th>\n",
       "      <td>the people bridge over Ave of the Stars - look...</td>\n",
       "      <td>kstny</td>\n",
       "      <td>0</td>\n",
       "    </tr>\n",
       "    <tr>\n",
       "      <th>4855</th>\n",
       "      <td>Meet us tomorrow 11-2pm 1800 Ave of the Stars....</td>\n",
       "      <td>arun90525168</td>\n",
       "      <td>0</td>\n",
       "    </tr>\n",
       "  </tbody>\n",
       "</table>\n",
       "<p>4856 rows × 3 columns</p>\n",
       "</div>"
      ],
      "text/plain": [
       "                                                  tweet         username  \\\n",
       "0     Terrebonne: Gray: The LA 660 Coteau Rd Bridge ...    Houma_Traffic   \n",
       "1     Western State East Standings: 1. Citrus 22-6, ...  sgnlthelgthoops   \n",
       "2     South Coast North Standings: 1. East Los Angel...  sgnlthelgthoops   \n",
       "3     All lanes are open I-10 East at mile marker 12...      Laf_Traffic   \n",
       "4     The exit ramp I-10 East at mile marker 121 (Bu...      Laf_Traffic   \n",
       "...                                                 ...              ...   \n",
       "4851  Cinema Under the Stars is a free outdoor famil...  WestwoodVillage   \n",
       "4852  #TBT when the LA Film Fest hosted a series of ...  WestwoodVillage   \n",
       "4853  #TBT when the LA Film Fest hosted a series of ...  WestwoodVillage   \n",
       "4854  the people bridge over Ave of the Stars - look...            kstny   \n",
       "4855  Meet us tomorrow 11-2pm 1800 Ave of the Stars....     arun90525168   \n",
       "\n",
       "      after_incident  \n",
       "0                  1  \n",
       "1                  1  \n",
       "2                  1  \n",
       "3                  1  \n",
       "4                  1  \n",
       "...              ...  \n",
       "4851               0  \n",
       "4852               0  \n",
       "4853               0  \n",
       "4854               0  \n",
       "4855               0  \n",
       "\n",
       "[4856 rows x 3 columns]"
      ]
     },
     "execution_count": 14,
     "metadata": {},
     "output_type": "execute_result"
    }
   ],
   "source": [
    "df.reset_index(inplace=True, drop=True)\n",
    "df"
   ]
  },
  {
   "cell_type": "markdown",
   "metadata": {},
   "source": [
    "Save to CSV\n",
    "---"
   ]
  },
  {
   "cell_type": "code",
   "execution_count": 15,
   "metadata": {},
   "outputs": [],
   "source": [
    "df.to_csv('../data/combined_incident_data.csv', index = False)"
   ]
  }
 ],
 "metadata": {
  "kernelspec": {
   "display_name": "Python 3",
   "language": "python",
   "name": "python3"
  },
  "language_info": {
   "codemirror_mode": {
    "name": "ipython",
    "version": 3
   },
   "file_extension": ".py",
   "mimetype": "text/x-python",
   "name": "python",
   "nbconvert_exporter": "python",
   "pygments_lexer": "ipython3",
   "version": "3.7.6"
  }
 },
 "nbformat": 4,
 "nbformat_minor": 4
}

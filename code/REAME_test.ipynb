{
 "cells": [
  {
   "cell_type": "markdown",
   "metadata": {},
   "source": [
    "# Project 5: Optimizing first responder routes using real-time social media information\n",
    "\n",
    "Team: Sam, Dina, Ramin\n",
    "\n",
    "## Problem Statement\n",
    "\n",
    "In the modern era it is possible for information to travel faster via a social media platform than through official news outlets. Our client, American Medical Response (AMR), wants to improve response times for rescue crews during a natural disaster or crisis.  To this end we propose to evaluate whether Twitter posts can be used effectively to identify potential traffic problems in real-time for first-responders during an emergency.  \n",
    "\n",
    "<img src=\"../plots/ambulance.png\" alt=\"Example\" width=\"150\" height=\"\">\n",
    "\n",
    "## Methods\n",
    "\n",
    "To achieve this goal we have split the problem into two parts, a feasibility study to detect vocabulary changes on Twitter during an incident and a specific use case study to use Twitter posts to evaluate potential risks along a Google maps route.\n",
    "\n",
    "**Part A. Feasibility Study**\n",
    "\n",
    "Using Twitter data, NLP, and Logistic Regression, can we detect the most common words people use to tweet about traffic incidents?\n",
    "   1. Choose a traffic incident (roadwork, closure, accident, etc)\n",
    "   2. Use HERE.com incident report as Twitter query keywords to scrape posts from before and after the incident\n",
    "   3. Set target label as 0 for posts before incident and 1 for posts during and after the incident\n",
    "   4. Run a suite of logistic regression models to predict whether a tweet came after a road incident\n",
    "   5. Evaluate text features with strongest predictive capability\n",
    "   \n",
    "**Part B. Use Case**\n",
    "\n",
    "Can we identify traffic hazards in real-time by collecting Twitter posts related to roads and freeways along an emergency response route by cross referencing vocabulary against the text features extracted from Part A?\n",
    "1. Set origin and destination in Google maps and get step by step instructions\n",
    "2. Use roads and intersections as query terms to search Twitter\n",
    "3. Cross reference collected Twiter posts with text features extracted from Part A\n",
    "4. Evaluate whether any of the Google maps routes is likely to have a traffic hazard"
   ]
  },
  {
   "cell_type": "markdown",
   "metadata": {},
   "source": [
    "## Table of Contents\n",
    "\n",
    "The table below outlines the notebooks in this repository as well as their purpose in the process.  All of these can be run as is, but if you want to customize the process you can find detailed instructions on what to edit below the table.\n",
    "\n",
    "| Notebook Name | Purpose | Notes |\n",
    "| - | - | - |\n",
    "| 01_here_traffic_scraper.ipynb | This notebook is for collecting traffic incident data from HERE.com and was used to collect data for the feasibility study| You will need a HERE.com API key to run this |\n",
    "| 02_twitter_incident_scarper.ipbynb | This notebook is used for collecting twitter data using a list of query terms and a pair of dates to scrape from and until | No API key necessary, but you will need getoldtweets3 |\n",
    "| 03_combine_incidents_data.ipynb | This notebook is used to combine Twitter posts from multiple incidents from different time windows | You will need to have two CSV files with data to run this notebook |\n",
    "| 04_modeling.ipnb | This notebook reads in a corpus of Tweets and applies a CountVectorizer transformation on the text body and then runs a logistic regression model to predict whether the tweets came before or after an incdident | You will need to select a CSV file of tweets distributed around an incident to run this notebook |\n",
    "| 05_use_case.ipnb | This notebook is used to query Google maps for a set of directions, extract the route segments, and use these query Twitter road hazards based on the incident keywords extracted from notebook number 4 | You will need a Google Maps API key and starting and ending points for the map query |\n",
    "\n",
    "\n",
    "**Customize Feasibility Study**\n",
    "\n",
    "To run your own feasibility study you will need to first use notebook 01 to select your incident(s) to study, then use notebook 02 to collect tweets from the time region of interest using query terms related to the incident, then use notebook 03 if you need to combine data from multiple incidents, then use notebook 04 to model the data and extract features.\n",
    "\n",
    "**Use Case Study**\n",
    "\n",
    "To run your own use case study you will use notebook 05 and then you will input a starting and ending location and a date range for which to collect Twitter data over.\n",
    "\n",
    "\n",
    "Software Requirements\n",
    "---\n",
    "If interested in reproducing this project, you need the following softwares,\n",
    "\n",
    "To perform data manipulation, analysis, and modeling:\n",
    "\n",
    "1. Pandas\n",
    "2. Scikit-learn\n",
    "\n",
    "To visualize your findings:\n",
    "\n",
    "3. Matplotlib\n",
    "4. Seaborn\n",
    "\n",
    "To collect HERE.com, Twitter, and Google Maps data respectively:\n",
    "\n",
    "5. HERE.com API\n",
    "6. GetOldTweets3\n",
    "7. Google Maps API"
   ]
  },
  {
   "cell_type": "markdown",
   "metadata": {},
   "source": [
    "## Data\n",
    "\n",
    "The data for both parts of this project consist of text documents pulled from Twitter.  For Part A the tweets are selected from a time period centered on a specific known incident case and are evenly distributed before and after to achieve the best balance of classes. The query terms are drawn from the incident descriptions on HERE.com for traffic problems on the I-10, I-5, and CA-2 in the greater Los Angeles region.\n",
    "\n",
    "For part B the data is also from Twitter but the query words are drawn from a set of step by step Google maps instructions from the San Fernando Fire Department to the Saddleridge fire.  The streetnames from each of the three routes are used to query Twitter for posts that may relate to closures along the first responder path.\n",
    "\n",
    "<img src=\"../plots/twitter_512.png\" alt=\"Example\" width=\"150\" height=\"\">"
   ]
  },
  {
   "cell_type": "markdown",
   "metadata": {},
   "source": [
    "## Results\n",
    "\n",
    "**Part A. Feasibility Study**\n",
    "\n",
    "Starting from a baseline score of 56% we are able to predict with 71% accuracy whether a tweet came before or after a known traffic incident. We get the same score on both the training and testing subgroups which shows that we have a low variance and highly generalizeable model.  This is ideal because the goal of this feasibility study is to extract the word coefficients from the logistic regression model so they can be used as keywords to detect traffic concerns in real time.  For example, the top 10 words with the highest coefficients are shown below:\n",
    "\n",
    "<img src=\"plots/plot10.png\" alt=\"Example\" width=\"500\" height=\"\">\n",
    "\n",
    "While a few of these are clearly noise (eg. shop, pico) most of them relate to realtime traffic problems.  This allows us to conclude that we can actually use Twitter to detect traffic incidents in real time.  For the next step we will extract these high coefficient keywords and cross reference them with Twitter posts relating to a set of Google maps directions.\n",
    "\n",
    "**Part B.  Use Case Study**\n",
    "\n",
    "- Need Ramin to fill this in a little\n",
    "\n",
    "<img src=\"../plots/gmaps.png\" alt=\"Example\" width=\"300\" height=\"\">"
   ]
  },
  {
   "cell_type": "markdown",
   "metadata": {},
   "source": [
    "## Conclusions\n",
    "\n",
    "**1. Is Twitter sensitive to traffic incidents in a measureable way?**\n",
    "\n",
    "- Yes, real-time traffic incidents are systematically reflected in Twitter posts such that we can use the vocabulary to predict whether a tweet came before or after an incident\n",
    "\n",
    "**2. Can Twitter posts be used to identify potential traffic problems in real-time during an emergency?**\n",
    "\n",
    "- Yes, we can search Twitter for posts that reference streets on the route and evaluate them for incident keywords and evaluate each route segment for traffic hazards.\n",
    "\n",
    "**Flaws:** \n",
    "- Most people don’t tweet & drive \n",
    "- There are not a lot tweets regarding street routes\n",
    "- There are no hashtags for an emergency that is actively unfolding\n",
    "- There is a lot of noise in the text data that is unrelated to traffic\n",
    "\n",
    "## Recommendations\n",
    "\n"
   ]
  },
  {
   "cell_type": "code",
   "execution_count": null,
   "metadata": {},
   "outputs": [],
   "source": []
  }
 ],
 "metadata": {
  "kernelspec": {
   "display_name": "Python 3",
   "language": "python",
   "name": "python3"
  },
  "language_info": {
   "codemirror_mode": {
    "name": "ipython",
    "version": 3
   },
   "file_extension": ".py",
   "mimetype": "text/x-python",
   "name": "python",
   "nbconvert_exporter": "python",
   "pygments_lexer": "ipython3",
   "version": "3.7.6"
  }
 },
 "nbformat": 4,
 "nbformat_minor": 4
}

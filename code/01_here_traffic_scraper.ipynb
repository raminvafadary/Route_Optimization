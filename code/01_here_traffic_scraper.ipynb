{
 "cells": [
  {
   "cell_type": "markdown",
   "metadata": {},
   "source": [
    "Collect HERE.com data\n",
    "---\n",
    "\n",
    "The codes below collect the most recent HERE.com data. The free tier of the HERE API only allows scraping as old as 3 days ago. To reproduce this notebook, you will need your own HERE.com API key.\n",
    "\n",
    "The pickled data frame was collected in May 11."
   ]
  },
  {
   "cell_type": "markdown",
   "metadata": {},
   "source": [
    "Import libraries\n",
    "---"
   ]
  },
  {
   "cell_type": "code",
   "execution_count": 2,
   "metadata": {},
   "outputs": [],
   "source": [
    "import pandas as pd\n",
    "import json\n",
    "import requests\n",
    "import pickle"
   ]
  },
  {
   "cell_type": "markdown",
   "metadata": {},
   "source": [
    "Grab incidents\n",
    "---\n",
    "- **Location:** Los Angeles\n",
    "- **Coordinates:** 34.052235° N, -118.243683° W\n",
    "- **Radius:** 50_000\n",
    "- **Criticality:** 0 (Critical)"
   ]
  },
  {
   "cell_type": "code",
   "execution_count": 3,
   "metadata": {
    "scrolled": true
   },
   "outputs": [],
   "source": [
    "url = \"https://traffic.ls.hereapi.com/traffic/6.2/incidents.json?\\\n",
    "prox=34.0522,-118.2437,50000\\\n",
    "&criticality=0\\\n",
    "&apiKey=INSERTYOURKEYHERE\"\n",
    "\n",
    "res = requests.get(url)"
   ]
  },
  {
   "cell_type": "markdown",
   "metadata": {},
   "source": [
    "Unpack JSON object to get list of traffic items\n",
    "---"
   ]
  },
  {
   "cell_type": "code",
   "execution_count": 4,
   "metadata": {},
   "outputs": [
    {
     "data": {
      "text/html": [
       "<div>\n",
       "<style scoped>\n",
       "    .dataframe tbody tr th:only-of-type {\n",
       "        vertical-align: middle;\n",
       "    }\n",
       "\n",
       "    .dataframe tbody tr th {\n",
       "        vertical-align: top;\n",
       "    }\n",
       "\n",
       "    .dataframe thead th {\n",
       "        text-align: right;\n",
       "    }\n",
       "</style>\n",
       "<table border=\"1\" class=\"dataframe\">\n",
       "  <thead>\n",
       "    <tr style=\"text-align: right;\">\n",
       "      <th></th>\n",
       "      <th>TRAFFIC_ITEM_ID</th>\n",
       "      <th>ORIGINAL_TRAFFIC_ITEM_ID</th>\n",
       "      <th>TRAFFIC_ITEM_STATUS_SHORT_DESC</th>\n",
       "      <th>TRAFFIC_ITEM_TYPE_DESC</th>\n",
       "      <th>START_TIME</th>\n",
       "      <th>END_TIME</th>\n",
       "      <th>ENTRY_TIME</th>\n",
       "      <th>CRITICALITY</th>\n",
       "      <th>VERIFIED</th>\n",
       "      <th>ABBREVIATION</th>\n",
       "      <th>COMMENTS</th>\n",
       "      <th>RDS-TMC_LOCATIONS</th>\n",
       "      <th>LOCATION</th>\n",
       "      <th>TRAFFIC_ITEM_DETAIL</th>\n",
       "      <th>TRAFFIC_ITEM_DESCRIPTION</th>\n",
       "      <th>mid</th>\n",
       "      <th>PRODUCT</th>\n",
       "    </tr>\n",
       "  </thead>\n",
       "  <tbody>\n",
       "    <tr>\n",
       "      <th>0</th>\n",
       "      <td>2803077639547397008</td>\n",
       "      <td>2803077639547397008</td>\n",
       "      <td>ACTIVE</td>\n",
       "      <td>CONSTRUCTION</td>\n",
       "      <td>05/15/2020 17:48:27</td>\n",
       "      <td>05/19/2020 17:48:07</td>\n",
       "      <td>05/15/2020 17:48:27</td>\n",
       "      <td>{'ID': '0', 'DESCRIPTION': 'critical'}</td>\n",
       "      <td>True</td>\n",
       "      <td>{'SHORT_DESC': 'CONST', 'DESCRIPTION': 'constr...</td>\n",
       "      <td>- widening project scheduled thru October 2020</td>\n",
       "      <td>{'RDS-TMC': [{'ORIGIN': {'EBU_COUNTRY_CODE': '...</td>\n",
       "      <td>{'DEFINED': {'ORIGIN': {'ROADWAY': {'DESCRIPTI...</td>\n",
       "      <td>{'ROAD_CLOSED': True, 'EVENT': {'EVENT_ITEM_CA...</td>\n",
       "      <td>[{'value': 'Ramp  closed to Florence Ave/Exit ...</td>\n",
       "      <td>HERE-Non-Europe-PR/r_HERE-Non-Europe-PR/869708...</td>\n",
       "      <td>basic</td>\n",
       "    </tr>\n",
       "    <tr>\n",
       "      <th>1</th>\n",
       "      <td>1006445432309556450</td>\n",
       "      <td>1006445432309556450</td>\n",
       "      <td>ACTIVE</td>\n",
       "      <td>CONSTRUCTION</td>\n",
       "      <td>05/15/2020 17:48:27</td>\n",
       "      <td>05/19/2020 17:48:07</td>\n",
       "      <td>05/15/2020 17:48:33</td>\n",
       "      <td>{'ID': '0', 'DESCRIPTION': 'critical'}</td>\n",
       "      <td>True</td>\n",
       "      <td>{'SHORT_DESC': 'CONST', 'DESCRIPTION': 'constr...</td>\n",
       "      <td>NaN</td>\n",
       "      <td>{'RDS-TMC': [{'ORIGIN': {'EBU_COUNTRY_CODE': '...</td>\n",
       "      <td>{'DEFINED': {'ORIGIN': {'ROADWAY': {'DESCRIPTI...</td>\n",
       "      <td>{'ROAD_CLOSED': True, 'EVENT': {'EVENT_ITEM_CA...</td>\n",
       "      <td>[{'value': 'Closed between E 6th St and Exit 1...</td>\n",
       "      <td>c21cad72-4943-4dc0-8685-c89bb43d979d|158956491...</td>\n",
       "      <td>basic</td>\n",
       "    </tr>\n",
       "    <tr>\n",
       "      <th>2</th>\n",
       "      <td>2171522699159254004</td>\n",
       "      <td>2171522699159254004</td>\n",
       "      <td>ACTIVE</td>\n",
       "      <td>CONSTRUCTION</td>\n",
       "      <td>05/15/2020 17:48:27</td>\n",
       "      <td>05/19/2020 17:48:07</td>\n",
       "      <td>05/15/2020 17:48:27</td>\n",
       "      <td>{'ID': '0', 'DESCRIPTION': 'critical'}</td>\n",
       "      <td>True</td>\n",
       "      <td>{'SHORT_DESC': 'CONST', 'DESCRIPTION': 'constr...</td>\n",
       "      <td>NaN</td>\n",
       "      <td>NaN</td>\n",
       "      <td>{'INTERSECTION': {'ORIGIN': {'ID': '', 'STREET...</td>\n",
       "      <td>{'ROAD_CLOSED': True, 'EVENT': {'EVENT_ITEM_CA...</td>\n",
       "      <td>[{'value': 'Closed between Glendale Blvd/Silve...</td>\n",
       "      <td>HERE-Non-Europe-PR/r_HERE-Non-Europe-PR/753554...</td>\n",
       "      <td>basic</td>\n",
       "    </tr>\n",
       "    <tr>\n",
       "      <th>3</th>\n",
       "      <td>2137120066284666171</td>\n",
       "      <td>3216678191088492697</td>\n",
       "      <td>ACTIVE</td>\n",
       "      <td>ROAD_CLOSURE</td>\n",
       "      <td>05/15/2020 21:50:44</td>\n",
       "      <td>05/16/2020 02:48:07</td>\n",
       "      <td>05/15/2020 21:50:44</td>\n",
       "      <td>{'ID': '0', 'DESCRIPTION': 'critical'}</td>\n",
       "      <td>True</td>\n",
       "      <td>{'SHORT_DESC': 'CLOS', 'DESCRIPTION': ''}</td>\n",
       "      <td>NaN</td>\n",
       "      <td>NaN</td>\n",
       "      <td>{'INTERSECTION': {'ORIGIN': {'ID': '', 'STREET...</td>\n",
       "      <td>{'ROAD_CLOSED': True, 'INCIDENT': {'RESPONSE_V...</td>\n",
       "      <td>[{'value': 'Closed between Santa Monica Blvd a...</td>\n",
       "      <td>HERE-Non-Europe-PR/r_HERE-Non-Europe-PR/838807...</td>\n",
       "      <td>basic</td>\n",
       "    </tr>\n",
       "    <tr>\n",
       "      <th>4</th>\n",
       "      <td>508486485092769098</td>\n",
       "      <td>508486485092769098</td>\n",
       "      <td>ACTIVE</td>\n",
       "      <td>CONSTRUCTION</td>\n",
       "      <td>05/15/2020 17:48:27</td>\n",
       "      <td>05/19/2020 17:48:07</td>\n",
       "      <td>05/15/2020 17:48:41</td>\n",
       "      <td>{'ID': '0', 'DESCRIPTION': 'critical'}</td>\n",
       "      <td>True</td>\n",
       "      <td>{'SHORT_DESC': 'CONST', 'DESCRIPTION': 'constr...</td>\n",
       "      <td>NaN</td>\n",
       "      <td>{'RDS-TMC': [{'ORIGIN': {'EBU_COUNTRY_CODE': '...</td>\n",
       "      <td>{'DEFINED': {'ORIGIN': {'ROADWAY': {'DESCRIPTI...</td>\n",
       "      <td>{'ROAD_CLOSED': True, 'EVENT': {'EVENT_ITEM_CA...</td>\n",
       "      <td>[{'value': 'Ramp  closed to Seaside Blvd - Clo...</td>\n",
       "      <td>016768dc-852f-4bc5-b125-9cf63fa907c8|158956492...</td>\n",
       "      <td>basic</td>\n",
       "    </tr>\n",
       "  </tbody>\n",
       "</table>\n",
       "</div>"
      ],
      "text/plain": [
       "       TRAFFIC_ITEM_ID  ORIGINAL_TRAFFIC_ITEM_ID  \\\n",
       "0  2803077639547397008       2803077639547397008   \n",
       "1  1006445432309556450       1006445432309556450   \n",
       "2  2171522699159254004       2171522699159254004   \n",
       "3  2137120066284666171       3216678191088492697   \n",
       "4   508486485092769098        508486485092769098   \n",
       "\n",
       "  TRAFFIC_ITEM_STATUS_SHORT_DESC TRAFFIC_ITEM_TYPE_DESC           START_TIME  \\\n",
       "0                         ACTIVE           CONSTRUCTION  05/15/2020 17:48:27   \n",
       "1                         ACTIVE           CONSTRUCTION  05/15/2020 17:48:27   \n",
       "2                         ACTIVE           CONSTRUCTION  05/15/2020 17:48:27   \n",
       "3                         ACTIVE           ROAD_CLOSURE  05/15/2020 21:50:44   \n",
       "4                         ACTIVE           CONSTRUCTION  05/15/2020 17:48:27   \n",
       "\n",
       "              END_TIME           ENTRY_TIME  \\\n",
       "0  05/19/2020 17:48:07  05/15/2020 17:48:27   \n",
       "1  05/19/2020 17:48:07  05/15/2020 17:48:33   \n",
       "2  05/19/2020 17:48:07  05/15/2020 17:48:27   \n",
       "3  05/16/2020 02:48:07  05/15/2020 21:50:44   \n",
       "4  05/19/2020 17:48:07  05/15/2020 17:48:41   \n",
       "\n",
       "                              CRITICALITY  VERIFIED  \\\n",
       "0  {'ID': '0', 'DESCRIPTION': 'critical'}      True   \n",
       "1  {'ID': '0', 'DESCRIPTION': 'critical'}      True   \n",
       "2  {'ID': '0', 'DESCRIPTION': 'critical'}      True   \n",
       "3  {'ID': '0', 'DESCRIPTION': 'critical'}      True   \n",
       "4  {'ID': '0', 'DESCRIPTION': 'critical'}      True   \n",
       "\n",
       "                                        ABBREVIATION  \\\n",
       "0  {'SHORT_DESC': 'CONST', 'DESCRIPTION': 'constr...   \n",
       "1  {'SHORT_DESC': 'CONST', 'DESCRIPTION': 'constr...   \n",
       "2  {'SHORT_DESC': 'CONST', 'DESCRIPTION': 'constr...   \n",
       "3          {'SHORT_DESC': 'CLOS', 'DESCRIPTION': ''}   \n",
       "4  {'SHORT_DESC': 'CONST', 'DESCRIPTION': 'constr...   \n",
       "\n",
       "                                         COMMENTS  \\\n",
       "0  - widening project scheduled thru October 2020   \n",
       "1                                             NaN   \n",
       "2                                             NaN   \n",
       "3                                             NaN   \n",
       "4                                             NaN   \n",
       "\n",
       "                                   RDS-TMC_LOCATIONS  \\\n",
       "0  {'RDS-TMC': [{'ORIGIN': {'EBU_COUNTRY_CODE': '...   \n",
       "1  {'RDS-TMC': [{'ORIGIN': {'EBU_COUNTRY_CODE': '...   \n",
       "2                                                NaN   \n",
       "3                                                NaN   \n",
       "4  {'RDS-TMC': [{'ORIGIN': {'EBU_COUNTRY_CODE': '...   \n",
       "\n",
       "                                            LOCATION  \\\n",
       "0  {'DEFINED': {'ORIGIN': {'ROADWAY': {'DESCRIPTI...   \n",
       "1  {'DEFINED': {'ORIGIN': {'ROADWAY': {'DESCRIPTI...   \n",
       "2  {'INTERSECTION': {'ORIGIN': {'ID': '', 'STREET...   \n",
       "3  {'INTERSECTION': {'ORIGIN': {'ID': '', 'STREET...   \n",
       "4  {'DEFINED': {'ORIGIN': {'ROADWAY': {'DESCRIPTI...   \n",
       "\n",
       "                                 TRAFFIC_ITEM_DETAIL  \\\n",
       "0  {'ROAD_CLOSED': True, 'EVENT': {'EVENT_ITEM_CA...   \n",
       "1  {'ROAD_CLOSED': True, 'EVENT': {'EVENT_ITEM_CA...   \n",
       "2  {'ROAD_CLOSED': True, 'EVENT': {'EVENT_ITEM_CA...   \n",
       "3  {'ROAD_CLOSED': True, 'INCIDENT': {'RESPONSE_V...   \n",
       "4  {'ROAD_CLOSED': True, 'EVENT': {'EVENT_ITEM_CA...   \n",
       "\n",
       "                            TRAFFIC_ITEM_DESCRIPTION  \\\n",
       "0  [{'value': 'Ramp  closed to Florence Ave/Exit ...   \n",
       "1  [{'value': 'Closed between E 6th St and Exit 1...   \n",
       "2  [{'value': 'Closed between Glendale Blvd/Silve...   \n",
       "3  [{'value': 'Closed between Santa Monica Blvd a...   \n",
       "4  [{'value': 'Ramp  closed to Seaside Blvd - Clo...   \n",
       "\n",
       "                                                 mid PRODUCT  \n",
       "0  HERE-Non-Europe-PR/r_HERE-Non-Europe-PR/869708...   basic  \n",
       "1  c21cad72-4943-4dc0-8685-c89bb43d979d|158956491...   basic  \n",
       "2  HERE-Non-Europe-PR/r_HERE-Non-Europe-PR/753554...   basic  \n",
       "3  HERE-Non-Europe-PR/r_HERE-Non-Europe-PR/838807...   basic  \n",
       "4  016768dc-852f-4bc5-b125-9cf63fa907c8|158956492...   basic  "
      ]
     },
     "execution_count": 4,
     "metadata": {},
     "output_type": "execute_result"
    }
   ],
   "source": [
    "traffic_items = pd.DataFrame(res.json()['TRAFFIC_ITEMS']['TRAFFIC_ITEM'])\n",
    "\n",
    "traffic_items.head()"
   ]
  },
  {
   "cell_type": "markdown",
   "metadata": {},
   "source": [
    "#### Check the time range of scraped data\n"
   ]
  },
  {
   "cell_type": "code",
   "execution_count": 5,
   "metadata": {},
   "outputs": [
    {
     "name": "stdout",
     "output_type": "stream",
     "text": [
      "Time Range: 0 days 04:29:15\n"
     ]
    }
   ],
   "source": [
    "last_date = pd.to_datetime(traffic_items.ENTRY_TIME).describe()['last'] \n",
    "\n",
    "first_date = pd.to_datetime(traffic_items.ENTRY_TIME).describe()['first']\n",
    "\n",
    "print(f'Time Range: {last_date - first_date}')"
   ]
  },
  {
   "cell_type": "markdown",
   "metadata": {},
   "source": [
    "#### Pickle `traffic_items`\n",
    "\n",
    "The code is commented out to not overwrite the pickled data."
   ]
  },
  {
   "cell_type": "code",
   "execution_count": null,
   "metadata": {},
   "outputs": [],
   "source": [
    "# pickle.dump(traffic_items, open( \"../assets/traffic_items_may11.pkl\", \"wb\" ))"
   ]
  },
  {
   "cell_type": "markdown",
   "metadata": {},
   "source": [
    "---"
   ]
  }
 ],
 "metadata": {
  "kernelspec": {
   "display_name": "Python 3",
   "language": "python",
   "name": "python3"
  },
  "language_info": {
   "codemirror_mode": {
    "name": "ipython",
    "version": 3
   },
   "file_extension": ".py",
   "mimetype": "text/x-python",
   "name": "python",
   "nbconvert_exporter": "python",
   "pygments_lexer": "ipython3",
   "version": "3.7.4"
  }
 },
 "nbformat": 4,
 "nbformat_minor": 4
}
